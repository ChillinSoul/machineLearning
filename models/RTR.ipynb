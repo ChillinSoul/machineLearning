{
 "cells": [
  {
   "cell_type": "code",
   "execution_count": 1,
   "metadata": {},
   "outputs": [],
   "source": [
    "\n",
    "from sklearn.metrics import mean_squared_error\n",
    "from sklearn.ensemble import RandomForestRegressor\n",
    "import numpy as np\n",
    "import helper"
   ]
  },
  {
   "cell_type": "code",
   "execution_count": 2,
   "metadata": {},
   "outputs": [],
   "source": [
    "X_train, X_test, y_train, y_test = helper.get_test_train_split()\n"
   ]
  },
  {
   "cell_type": "code",
   "execution_count": 5,
   "metadata": {},
   "outputs": [
    {
     "name": "stdout",
     "output_type": "stream",
     "text": [
      "Mean Squared Error: 5681709398796105.0\n",
      "Root Mean Squared Error: 75377114.55605146\n"
     ]
    },
    {
     "data": {
      "text/plain": [
       "[('vote_count', 100.0),\n",
       " ('Unnamed: 0', 34.44055084484532),\n",
       " ('vote_average', 29.25422047991053),\n",
       " ('popularity', 26.152211243220908),\n",
       " ('financial_investment', 23.547669143723446),\n",
       " ('release', 17.893789873058374),\n",
       " ('Comedy', 5.640723748657208),\n",
       " ('spoken_languages_encoded', 4.014413478316118),\n",
       " ('countries_of_production_encoded', 3.4541199373291995),\n",
       " ('Drama', 1.9179609347752011),\n",
       " ('Thriller', 1.7654448188202807),\n",
       " ('Action', 1.4766292530030354),\n",
       " ('Adventure', 0.9649061405564154),\n",
       " ('Animation', 0.0),\n",
       " ('Crime', 0.0),\n",
       " ('Documentary', 0.0),\n",
       " ('Family', 0.0),\n",
       " ('Fantasy', 0.0),\n",
       " ('Foreign', 0.0),\n",
       " ('History', 0.0),\n",
       " ('Horror', 0.0),\n",
       " ('Music', 0.0),\n",
       " ('Mystery', 0.0),\n",
       " ('Romance', 0.0),\n",
       " ('Science Fiction', 0.0),\n",
       " ('War', 0.0),\n",
       " ('Western', 0.0)]"
      ]
     },
     "execution_count": 5,
     "metadata": {},
     "output_type": "execute_result"
    }
   ],
   "source": [
    "model = RandomForestRegressor(n_estimators=100, random_state=42)\n",
    "model.fit(X_train, y_train)\n",
    "\n",
    "y_pred = model.predict(X_test)\n",
    "\n",
    "mse = mean_squared_error(helper.revenue_exp(y_test), helper.revenue_exp(y_pred))\n",
    "print(f'Mean Squared Error: {mse}')\n",
    "rmse = np.sqrt(mse)\n",
    "print(f'Root Mean Squared Error: {rmse}')\n",
    "\n",
    "# graphing feature importance\n",
    "\n",
    "feature_importances = model.feature_importances_\n",
    "feature_importances = 100.0 * (feature_importances / feature_importances.max())\n",
    "feature_names = helper.get_features_names()\n",
    "feature_zip = zip(feature_names, feature_importances)\n",
    "\n",
    "feature_zip = sorted(feature_zip, key=lambda x: x[1], reverse=True)\n",
    "\n",
    "feature_zip"
   ]
  }
 ],
 "metadata": {
  "kernelspec": {
   "display_name": "Python 3",
   "language": "python",
   "name": "python3"
  },
  "language_info": {
   "codemirror_mode": {
    "name": "ipython",
    "version": 3
   },
   "file_extension": ".py",
   "mimetype": "text/x-python",
   "name": "python",
   "nbconvert_exporter": "python",
   "pygments_lexer": "ipython3",
   "version": "3.11.7"
  }
 },
 "nbformat": 4,
 "nbformat_minor": 2
}
